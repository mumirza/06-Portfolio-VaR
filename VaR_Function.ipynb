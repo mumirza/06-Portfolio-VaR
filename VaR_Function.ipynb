{
  "nbformat": 4,
  "nbformat_minor": 0,
  "metadata": {
    "colab": {
      "provenance": []
    },
    "kernelspec": {
      "name": "python3",
      "display_name": "Python 3"
    },
    "language_info": {
      "name": "python"
    }
  },
  "cells": [
    {
      "cell_type": "code",
      "execution_count": null,
      "metadata": {
        "id": "vSZlWGJ_5Dl4"
      },
      "outputs": [],
      "source": [
        "import yfinance as yf\n",
        "import numpy as np\n",
        "import datetime as dt\n",
        "from scipy.stats import norm\n",
        "\n",
        "def calculate_var(tickers, weights, start_date, end_date, confidence_level=0.05, num_days=10):\n",
        "    # Download historical data for the given tickers\n",
        "    df = yf.download(tickers, start=start_date, end=end_date)['Adj Close']\n",
        "\n",
        "    # Calculate returns\n",
        "    returns = df.pct_change()\n",
        "\n",
        "    # Calculate covariance matrix and average returns\n",
        "    cov_matrix = returns.cov()\n",
        "    avg_returns = returns.mean()\n",
        "\n",
        "    # Calculate portfolio mean return and standard deviation\n",
        "    port_mean = avg_returns @ weights\n",
        "    port_std = np.sqrt(weights.T @ cov_matrix @ weights)\n",
        "\n",
        "    # Calculate VaR\n",
        "    VaR = norm.ppf(confidence_level, port_mean, port_std) * np.sqrt(num_days)\n",
        "\n",
        "    return VaR\n",
        "\n",
        "if __name__ == '__main__':\n",
        "    # Example inputs\n",
        "    tickers = ['SPY', 'QQQ']\n",
        "    weights = np.array([0.5, 0.5])\n",
        "    start_date = dt.datetime(2023, 1, 1)\n",
        "    end_date = dt.datetime.now()\n",
        "    confidence_level = 0.05\n",
        "    num_days = 10\n",
        "\n",
        "    VaR = calculate_var(tickers, weights, start_date, end_date, confidence_level, num_days)\n",
        "    print(f\"The Value at Risk (VaR) of the portfolio is: {VaR}\")\n"
      ]
    }
  ]
}